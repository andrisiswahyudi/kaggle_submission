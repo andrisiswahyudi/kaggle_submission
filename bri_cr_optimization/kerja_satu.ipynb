{
 "cells": [
  {
   "cell_type": "code",
   "execution_count": 1,
   "metadata": {},
   "outputs": [
    {
     "name": "stderr",
     "output_type": "stream",
     "text": [
      "Importing plotly failed. Interactive plots will not work.\n"
     ]
    }
   ],
   "source": [
    "import pandas as pd\n",
    "import numpy as np\n",
    "import matplotlib.pyplot as plt\n",
    "from fbprophet import Prophet\n",
    "from sklearn.metrics import r2_score\n",
    "\n",
    "%matplotlib inline"
   ]
  },
  {
   "cell_type": "code",
   "execution_count": 2,
   "metadata": {},
   "outputs": [],
   "source": [
    "train_df = pd.read_csv('train.csv')"
   ]
  },
  {
   "cell_type": "code",
   "execution_count": 3,
   "metadata": {},
   "outputs": [
    {
     "data": {
      "text/html": [
       "<div>\n",
       "<style scoped>\n",
       "    .dataframe tbody tr th:only-of-type {\n",
       "        vertical-align: middle;\n",
       "    }\n",
       "\n",
       "    .dataframe tbody tr th {\n",
       "        vertical-align: top;\n",
       "    }\n",
       "\n",
       "    .dataframe thead th {\n",
       "        text-align: right;\n",
       "    }\n",
       "</style>\n",
       "<table border=\"1\" class=\"dataframe\">\n",
       "  <thead>\n",
       "    <tr style=\"text-align: right;\">\n",
       "      <th></th>\n",
       "      <th>periode</th>\n",
       "      <th>cash_in_echannel</th>\n",
       "      <th>cash_out_echannel</th>\n",
       "      <th>cash_in_kantor</th>\n",
       "      <th>cash_out_kantor</th>\n",
       "      <th>cr_ketetapan_total_bkn_sum</th>\n",
       "      <th>giro</th>\n",
       "      <th>deposito</th>\n",
       "      <th>kewajiban_lain</th>\n",
       "      <th>tabungan</th>\n",
       "      <th>rata_dpk_mingguan</th>\n",
       "      <th>kas_kantor</th>\n",
       "      <th>kas_echannel</th>\n",
       "    </tr>\n",
       "  </thead>\n",
       "  <tbody>\n",
       "    <tr>\n",
       "      <th>0</th>\n",
       "      <td>2019-07-31</td>\n",
       "      <td>7.303000e+08</td>\n",
       "      <td>-1.304400e+09</td>\n",
       "      <td>1.436722e+11</td>\n",
       "      <td>-1.106104e+11</td>\n",
       "      <td>3.0</td>\n",
       "      <td>9.867358e+11</td>\n",
       "      <td>8.048153e+11</td>\n",
       "      <td>1.419685e+10</td>\n",
       "      <td>7.072647e+11</td>\n",
       "      <td>3.135744e+11</td>\n",
       "      <td>1.928940e+09</td>\n",
       "      <td>2.939100e+09</td>\n",
       "    </tr>\n",
       "    <tr>\n",
       "      <th>1</th>\n",
       "      <td>2019-08-01</td>\n",
       "      <td>7.322000e+08</td>\n",
       "      <td>-8.321500e+08</td>\n",
       "      <td>3.144131e+11</td>\n",
       "      <td>-6.710987e+10</td>\n",
       "      <td>3.0</td>\n",
       "      <td>8.962459e+11</td>\n",
       "      <td>8.125611e+11</td>\n",
       "      <td>1.234062e+10</td>\n",
       "      <td>7.011995e+11</td>\n",
       "      <td>3.135744e+11</td>\n",
       "      <td>2.492322e+11</td>\n",
       "      <td>2.839150e+09</td>\n",
       "    </tr>\n",
       "    <tr>\n",
       "      <th>2</th>\n",
       "      <td>2019-08-02</td>\n",
       "      <td>1.169800e+09</td>\n",
       "      <td>-6.214000e+08</td>\n",
       "      <td>1.251294e+09</td>\n",
       "      <td>-1.142332e+09</td>\n",
       "      <td>3.0</td>\n",
       "      <td>9.059714e+11</td>\n",
       "      <td>8.127225e+11</td>\n",
       "      <td>1.182022e+10</td>\n",
       "      <td>6.922787e+11</td>\n",
       "      <td>3.135744e+11</td>\n",
       "      <td>2.493411e+11</td>\n",
       "      <td>3.387550e+09</td>\n",
       "    </tr>\n",
       "    <tr>\n",
       "      <th>3</th>\n",
       "      <td>2019-08-03</td>\n",
       "      <td>9.134500e+08</td>\n",
       "      <td>-4.240500e+08</td>\n",
       "      <td>0.000000e+00</td>\n",
       "      <td>0.000000e+00</td>\n",
       "      <td>3.0</td>\n",
       "      <td>9.057127e+11</td>\n",
       "      <td>8.127253e+11</td>\n",
       "      <td>1.199640e+10</td>\n",
       "      <td>6.867224e+11</td>\n",
       "      <td>3.135744e+11</td>\n",
       "      <td>2.493411e+11</td>\n",
       "      <td>3.876950e+09</td>\n",
       "    </tr>\n",
       "    <tr>\n",
       "      <th>4</th>\n",
       "      <td>2019-08-04</td>\n",
       "      <td>7.752500e+08</td>\n",
       "      <td>-7.779500e+08</td>\n",
       "      <td>9.883331e+10</td>\n",
       "      <td>-8.729274e+10</td>\n",
       "      <td>3.0</td>\n",
       "      <td>9.788347e+11</td>\n",
       "      <td>8.124711e+11</td>\n",
       "      <td>1.232962e+10</td>\n",
       "      <td>6.813438e+11</td>\n",
       "      <td>3.135744e+11</td>\n",
       "      <td>2.608817e+11</td>\n",
       "      <td>3.874250e+09</td>\n",
       "    </tr>\n",
       "  </tbody>\n",
       "</table>\n",
       "</div>"
      ],
      "text/plain": [
       "      periode  cash_in_echannel  cash_out_echannel  cash_in_kantor  \\\n",
       "0  2019-07-31      7.303000e+08      -1.304400e+09    1.436722e+11   \n",
       "1  2019-08-01      7.322000e+08      -8.321500e+08    3.144131e+11   \n",
       "2  2019-08-02      1.169800e+09      -6.214000e+08    1.251294e+09   \n",
       "3  2019-08-03      9.134500e+08      -4.240500e+08    0.000000e+00   \n",
       "4  2019-08-04      7.752500e+08      -7.779500e+08    9.883331e+10   \n",
       "\n",
       "   cash_out_kantor  cr_ketetapan_total_bkn_sum          giro      deposito  \\\n",
       "0    -1.106104e+11                         3.0  9.867358e+11  8.048153e+11   \n",
       "1    -6.710987e+10                         3.0  8.962459e+11  8.125611e+11   \n",
       "2    -1.142332e+09                         3.0  9.059714e+11  8.127225e+11   \n",
       "3     0.000000e+00                         3.0  9.057127e+11  8.127253e+11   \n",
       "4    -8.729274e+10                         3.0  9.788347e+11  8.124711e+11   \n",
       "\n",
       "   kewajiban_lain      tabungan  rata_dpk_mingguan    kas_kantor  kas_echannel  \n",
       "0    1.419685e+10  7.072647e+11       3.135744e+11  1.928940e+09  2.939100e+09  \n",
       "1    1.234062e+10  7.011995e+11       3.135744e+11  2.492322e+11  2.839150e+09  \n",
       "2    1.182022e+10  6.922787e+11       3.135744e+11  2.493411e+11  3.387550e+09  \n",
       "3    1.199640e+10  6.867224e+11       3.135744e+11  2.493411e+11  3.876950e+09  \n",
       "4    1.232962e+10  6.813438e+11       3.135744e+11  2.608817e+11  3.874250e+09  "
      ]
     },
     "execution_count": 3,
     "metadata": {},
     "output_type": "execute_result"
    }
   ],
   "source": [
    "train_df.head()"
   ]
  },
  {
   "cell_type": "code",
   "execution_count": 4,
   "metadata": {},
   "outputs": [
    {
     "name": "stdout",
     "output_type": "stream",
     "text": [
      "            cash_in_echannel  cash_out_echannel  cash_in_kantor\n",
      "periode                                                        \n",
      "2019-07-31      7.303000e+08      -1.304400e+09    1.436722e+11\n",
      "2019-08-01      7.322000e+08      -8.321500e+08    3.144131e+11\n",
      "2019-08-02      1.169800e+09      -6.214000e+08    1.251294e+09\n",
      "\n",
      "            cash_in_echannel  cash_out_echannel  cash_in_kantor\n",
      "periode                                                        \n",
      "2020-09-28      7.438000e+08       -556200000.0    1.264345e+11\n",
      "2020-09-29      1.009250e+09       -772100000.0    1.548627e+11\n",
      "2020-09-30      6.861000e+08       -833250000.0    1.487817e+11\n"
     ]
    }
   ],
   "source": [
    "train_df['periode'] = pd.to_datetime(train_df['periode'])\n",
    "train_df = train_df.set_index('periode')\n",
    "\n",
    "print(train_df.iloc[:3, :3])\n",
    "print()\n",
    "print(train_df.iloc[-3:, :3])"
   ]
  },
  {
   "cell_type": "code",
   "execution_count": null,
   "metadata": {},
   "outputs": [],
   "source": [
    "train_df.info()"
   ]
  },
  {
   "cell_type": "code",
   "execution_count": null,
   "metadata": {},
   "outputs": [],
   "source": [
    "import matplotlib.dates as mdates"
   ]
  },
  {
   "cell_type": "code",
   "execution_count": null,
   "metadata": {},
   "outputs": [],
   "source": [
    "important_cols = ['kas_kantor', 'cash_in_kantor', 'cash_out_kantor', 'kas_echannel', 'cash_in_echannel', 'cash_out_echannel']\n",
    "\n",
    "for col in important_cols:\n",
    "    plt.figure(figsize=(20, 5))\n",
    "    plt.plot(train_df[col])\n",
    "    plt.grid(color='grey')\n",
    "    plt.title(col)\n",
    "    ax = plt.gca()\n",
    "    ax.xaxis.set_major_locator(mdates.MonthLocator(interval=1))\n",
    "    ax.xaxis.set_major_formatter(mdates.DateFormatter('%b %Y'))\n",
    "    plt.show()"
   ]
  },
  {
   "cell_type": "code",
   "execution_count": null,
   "metadata": {},
   "outputs": [],
   "source": [
    "kas_kantor = train_df['kas_kantor']\n",
    "kas_ec = train_df['kas_echannel']\n",
    "\n",
    "X = np.arange(425).reshape(-1, 1)\n",
    "\n",
    "lr_k = Prophet(changepoint_prior_scale=0.045, daily_seasonality=False)\n",
    "lr_e = Prophet(changepoint_prior_scale=0.045, daily_seasonality=False)\n",
    "\n",
    "lr_k.fit(X, kas_kantor)\n",
    "lr_e.fit(X, kas_ec)"
   ]
  },
  {
   "cell_type": "code",
   "execution_count": null,
   "metadata": {},
   "outputs": [],
   "source": [
    "x_pred = np.arange(425, 425 + 31).reshape(-1, 1)\n",
    "yk_pred = lr_k.predict(x_pred)\n",
    "ye_pred = lr_e.predict(x_pred)\n",
    "\n",
    "plt.figure(figsize=(16,4))\n",
    "plt.plot(kas_kantor)\n",
    "plt.plot(yk_pred)\n",
    "plt.grid(color='grey')\n",
    "plt.title('kas kantor')\n",
    "ax = plt.gca()\n",
    "ax.xaxis.set_major_locator(mdates.MonthLocator(interval=1))\n",
    "ax.xaxis.set_major_formatter(mdates.DateFormatter('%b %Y'))\n",
    "plt.show()\n",
    "\n",
    "plt.figure(figsize=(16,4))\n",
    "plt.plot(kas_ec)\n",
    "plt.plot(ye_pred)\n",
    "plt.grid(color='grey')\n",
    "plt.title('kas echannel')\n",
    "ax = plt.gca()\n",
    "ax.xaxis.set_major_locator(mdates.MonthLocator(interval=1))\n",
    "ax.xaxis.set_major_formatter(mdates.DateFormatter('%b %Y'))\n",
    "plt.show()"
   ]
  },
  {
   "cell_type": "code",
   "execution_count": null,
   "metadata": {},
   "outputs": [],
   "source": [
    "submission = pd.read_csv('sample_submission.csv')\n",
    "submission.iloc[:31, 1] = forecast_k.iloc[425:,3]\n",
    "submission.iloc[31:, 1] = forecast_e.iloc[425:,3]\n",
    "submission.to_csv('submission_x.csv', index=False)"
   ]
  }
 ],
 "metadata": {
  "kernelspec": {
   "display_name": "Python 3",
   "language": "python",
   "name": "python3"
  },
  "language_info": {
   "codemirror_mode": {
    "name": "ipython",
    "version": 3
   },
   "file_extension": ".py",
   "mimetype": "text/x-python",
   "name": "python",
   "nbconvert_exporter": "python",
   "pygments_lexer": "ipython3",
   "version": "3.7.6"
  }
 },
 "nbformat": 4,
 "nbformat_minor": 4
}
